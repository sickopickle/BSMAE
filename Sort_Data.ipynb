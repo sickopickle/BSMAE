{
  "cells": [
    {
      "cell_type": "code",
      "execution_count": 1,
      "metadata": {
        "colab": {
          "base_uri": "https://localhost:8080/"
        },
        "id": "HWFsMuPj26KJ",
        "outputId": "d3d08085-47a7-4b15-ed01-5b627357cd1d"
      },
      "outputs": [
        {
          "name": "stdout",
          "output_type": "stream",
          "text": [
            "G:\\My Drive\n"
          ]
        },
        {
          "name": "stderr",
          "output_type": "stream",
          "text": [
            "C:\\Users\\aiden\\AppData\\Local\\Packages\\PythonSoftwareFoundation.Python.3.12_qbz5n2kfra8p0\\LocalCache\\local-packages\\Python312\\site-packages\\IPython\\core\\magics\\osm.py:417: UserWarning: using dhist requires you to install the `pickleshare` library.\n",
            "  self.shell.db['dhist'] = compress_dhist(dhist)[-100:]\n"
          ]
        }
      ],
      "source": [
        "cd G:/My Drive"
      ]
    },
    {
      "cell_type": "code",
      "execution_count": 2,
      "metadata": {
        "id": "BbCN8Tbgxfmh"
      },
      "outputs": [
        {
          "name": "stderr",
          "output_type": "stream",
          "text": [
            "C:\\Users\\aiden\\AppData\\Local\\Temp\\ipykernel_133716\\4022002413.py:8: DeprecationWarning: \n",
            "Pyarrow will become a required dependency of pandas in the next major release of pandas (pandas 3.0),\n",
            "(to allow more performant data types, such as the Arrow string type, and better interoperability with other libraries)\n",
            "but was not found to be installed on your system.\n",
            "If this would cause problems for you,\n",
            "please provide us feedback at https://github.com/pandas-dev/pandas/issues/54466\n",
            "        \n",
            "  import pandas as pd\n"
          ]
        }
      ],
      "source": [
        "import os\n",
        "import shutil\n",
        "import sys\n",
        "import pickle as pkl\n",
        "from PIL import Image\n",
        "import cv2\n",
        "import numpy as np\n",
        "import pandas as pd"
      ]
    },
    {
      "cell_type": "code",
      "execution_count": 3,
      "metadata": {
        "id": "8gfBa3uP8R_1"
      },
      "outputs": [],
      "source": [
        "root_dir = \"CTdata/curated_data/curated_data\""
      ]
    },
    {
      "cell_type": "code",
      "execution_count": 4,
      "metadata": {
        "id": "pPxrA9VO479-"
      },
      "outputs": [],
      "source": [
        "with open(\"CTdata/all_images.pkl\", \"rb\") as file:\n",
        "  all_images = pkl.load(file)"
      ]
    },
    {
      "cell_type": "code",
      "execution_count": 5,
      "metadata": {
        "id": "UX1N6OhA7UrA"
      },
      "outputs": [],
      "source": [
        "def is_grayscale(image):\n",
        "  \"\"\"\n",
        "  Checks if an image is grayscale.\n",
        "  Args:\n",
        "    image: The image to check.\n",
        "  Returns:\n",
        "    True if the image is grayscale, False otherwise.\n",
        "  \"\"\"\n",
        "  # Convert the image to HSV color space.\n",
        "  hsv_image = cv2.cvtColor(image, cv2.COLOR_BGR2HSV)\n",
        "  # Get the saturation channel of the image.\n",
        "  saturation_channel = np.array(hsv_image[:, :, 1])\n",
        "  # Check if all pixels in the saturation channel are 0.\n",
        "  return not np.count_nonzero(saturation_channel)\n"
      ]
    },
    {
      "cell_type": "code",
      "execution_count": 6,
      "metadata": {
        "id": "mLjmwQbI7VeX"
      },
      "outputs": [],
      "source": [
        "def resizeAndPad(img, size, padColor=0):\n",
        "\n",
        "  h, w = img.shape[:2]\n",
        "  sh, sw = size\n",
        "\n",
        "  # interpolation method\n",
        "  if h > sh or w > sw: # shrinking image\n",
        "      interp = cv2.INTER_AREA\n",
        "  else: # stretching image\n",
        "      interp = cv2.INTER_CUBIC\n",
        "\n",
        "  # aspect ratio of image\n",
        "  aspect = w/h  # if on Python 2, you might need to cast as a float: float(w)/h\n",
        "\n",
        "  # compute scaling and pad sizing\n",
        "  if aspect > 1: # horizontal image\n",
        "      new_w = sw\n",
        "      new_h = np.round(new_w/aspect).astype(int)\n",
        "      pad_vert = (sh-new_h)/2\n",
        "      pad_top, pad_bot = np.floor(pad_vert).astype(int), np.ceil(pad_vert).astype(int)\n",
        "      pad_left, pad_right = 0, 0\n",
        "  elif aspect < 1: # vertical image\n",
        "      new_h = sh\n",
        "      new_w = np.round(new_h*aspect).astype(int)\n",
        "      pad_horz = (sw-new_w)/2\n",
        "      pad_left, pad_right = np.floor(pad_horz).astype(int), np.ceil(pad_horz).astype(int)\n",
        "      pad_top, pad_bot = 0, 0\n",
        "  else: # square image\n",
        "      new_h, new_w = sh, sw\n",
        "      pad_left, pad_right, pad_top, pad_bot = 0, 0, 0, 0\n",
        "\n",
        "  # scale and pad\n",
        "  scaled_img = cv2.resize(img, (new_w, new_h), interpolation=interp)\n",
        "  scaled_img = cv2.copyMakeBorder(scaled_img, pad_top, pad_bot, pad_left, pad_right, borderType=cv2.BORDER_CONSTANT, value=padColor)\n",
        "\n",
        "  return scaled_img"
      ]
    },
    {
      "cell_type": "code",
      "execution_count": 7,
      "metadata": {
        "id": "pfUq2Tkt9BEq"
      },
      "outputs": [],
      "source": [
        "covid = pd.read_csv(\"CTdata/meta_data_covid.csv\", encoding = \"latin_1\")\n",
        "normal = pd.read_csv(\"CTdata/meta_data_normal.csv\")\n",
        "cap = pd.read_csv(\"CTdata/meta_data_cap.csv\")"
      ]
    },
    {
      "cell_type": "code",
      "execution_count": 8,
      "metadata": {
        "id": "1EWon0iE8z0W"
      },
      "outputs": [],
      "source": [
        "target_dir = \"CTdata/transformedData/\""
      ]
    },
    {
      "cell_type": "code",
      "execution_count": 10,
      "metadata": {
        "colab": {
          "base_uri": "https://localhost:8080/"
        },
        "id": "_UfOkqHe2HRl",
        "outputId": "fa2abf8c-def2-4a12-e02c-87b675c8b8df"
      },
      "outputs": [
        {
          "name": "stdout",
          "output_type": "stream",
          "text": [
            "1 0\n",
            "1 100\n",
            "1 200\n",
            "1 300\n",
            "1 400\n",
            "1 500\n",
            "1 600\n",
            "1 700\n",
            "1 800\n",
            "1 900\n",
            "1 1000\n",
            "1 1100\n",
            "1 1200\n",
            "1 1300\n",
            "1 1400\n",
            "1 1500\n",
            "1 1600\n",
            "1 1700\n",
            "1 1800\n",
            "1 1900\n",
            "1 2000\n",
            "1 2100\n",
            "1 2200\n",
            "1 2300\n",
            "1 2400\n",
            "1 2500\n",
            "1 2600\n",
            "1 2700\n",
            "1 2800\n",
            "1 2900\n",
            "1 3000\n",
            "1 3100\n",
            "1 3200\n",
            "1 3300\n",
            "1 3400\n",
            "1 3500\n",
            "1 3600\n",
            "1 3700\n",
            "1 3800\n",
            "1 3900\n",
            "1 4000\n",
            "1 4100\n",
            "1 4200\n",
            "1 4300\n",
            "1 4400\n",
            "1 4500\n",
            "1 4600\n",
            "1 4700\n",
            "1 4800\n",
            "1 4900\n",
            "1 5000\n",
            "1 5100\n",
            "1 5200\n",
            "1 5300\n",
            "1 5400\n",
            "1 5500\n",
            "1 5600\n",
            "1 5700\n",
            "1 5800\n",
            "1 5900\n",
            "1 6000\n",
            "1 6100\n",
            "1 6200\n",
            "1 6300\n",
            "1 6400\n",
            "1 6500\n",
            "1 6600\n",
            "1 6700\n",
            "1 6800\n",
            "2 0\n",
            "2 100\n",
            "2 200\n",
            "2 300\n",
            "2 400\n",
            "2 500\n",
            "2 600\n",
            "2 700\n",
            "2 800\n",
            "2 900\n",
            "2 1000\n",
            "2 1100\n",
            "2 1200\n",
            "2 1300\n",
            "2 1400\n",
            "2 1500\n",
            "2 1600\n",
            "2 1700\n",
            "2 1800\n",
            "2 1900\n",
            "2 2000\n",
            "2 2100\n",
            "2 2200\n",
            "2 2300\n",
            "2 2400\n",
            "2 2500\n",
            "2 2600\n",
            "2 2700\n",
            "2 2800\n",
            "2 2900\n",
            "2 3000\n",
            "2 3100\n",
            "2 3200\n",
            "2 3300\n",
            "2 3400\n",
            "2 3500\n",
            "2 3600\n",
            "2 3700\n",
            "2 3800\n",
            "2 3900\n",
            "2 4000\n",
            "2 4100\n",
            "2 4200\n",
            "2 4300\n",
            "2 4400\n",
            "2 4500\n",
            "2 4600\n",
            "2 4700\n",
            "2 4800\n",
            "2 4900\n",
            "2 5000\n",
            "2 5100\n",
            "2 5200\n",
            "2 5300\n",
            "2 5400\n",
            "2 5500\n",
            "2 5600\n",
            "2 5700\n",
            "2 5800\n",
            "2 5900\n",
            "2 6000\n",
            "2 6100\n",
            "2 6200\n",
            "2 6300\n",
            "2 6400\n",
            "2 6500\n",
            "2 6600\n",
            "2 6700\n",
            "2 6800\n",
            "2 6900\n",
            "2 7000\n",
            "2 7100\n",
            "2 7200\n",
            "2 7300\n",
            "2 7400\n",
            "2 7500\n",
            "3 0\n",
            "3 100\n",
            "3 200\n",
            "3 300\n",
            "3 400\n",
            "3 500\n",
            "3 600\n",
            "3 700\n",
            "3 800\n",
            "3 900\n",
            "3 1000\n",
            "3 1100\n",
            "3 1200\n",
            "3 1300\n",
            "3 1400\n",
            "3 1500\n",
            "3 1600\n",
            "3 1700\n",
            "3 1800\n",
            "3 1900\n",
            "3 2000\n",
            "3 2100\n",
            "3 2200\n",
            "3 2300\n",
            "3 2400\n",
            "3 2500\n",
            "3 2600\n"
          ]
        }
      ],
      "source": [
        "def process_data (label, dir):\n",
        "  for index, row in label.iterrows():\n",
        "    if not index % 100:\n",
        "      print(dir[0], index)\n",
        "\n",
        "    img_array = cv2.imread(root_dir + \"/\" + dir + \"/\" + row[\"File name\"])\n",
        "    if not is_grayscale(img_array):\n",
        "      continue\n",
        "    img_array = cv2.cvtColor(img_array, cv2.COLOR_BGR2GRAY)\n",
        "    ret, thresholded = cv2.threshold(img_array, 0, 255, cv2.THRESH_OTSU)\n",
        "    bbox = cv2.boundingRect(thresholded)\n",
        "    x, y, w, h = bbox\n",
        "\n",
        "    img_array = img_array[y:y+h, x:x+w]\n",
        "    img_array = resizeAndPad(img_array, (512,512))\n",
        "\n",
        "    im = Image.fromarray(img_array)\n",
        "    im.save(os.path.join(target_dir, dir, row[\"File name\"]))\n",
        "\n",
        "process_data(normal, \"1NonCOVID\")\n",
        "process_data(covid, \"2COVID\")\n",
        "process_data(cap, \"3CAP\")"
      ]
    }
  ],
  "metadata": {
    "colab": {
      "provenance": []
    },
    "kernelspec": {
      "display_name": "Python 3",
      "name": "python3"
    },
    "language_info": {
      "codemirror_mode": {
        "name": "ipython",
        "version": 3
      },
      "file_extension": ".py",
      "mimetype": "text/x-python",
      "name": "python",
      "nbconvert_exporter": "python",
      "pygments_lexer": "ipython3",
      "version": "3.12.2"
    }
  },
  "nbformat": 4,
  "nbformat_minor": 0
}
